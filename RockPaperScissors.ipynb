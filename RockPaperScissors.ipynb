{
 "cells": [
  {
   "cell_type": "code",
   "execution_count": 7,
   "metadata": {},
   "outputs": [
    {
     "name": "stdout",
     "output_type": "stream",
     "text": [
      "choose Rock(R), Paper(P), Scissors(S)      PLAYER1:R\n",
      "choose Rock(R), Paper(P), Scissors(S)      PLAYER2:S\n",
      "RESULT=Player1 won!!!!!\n",
      "Goodbye\n"
     ]
    }
   ],
   "source": [
    "Player1= input(\"choose Rock(R), Paper(P), Scissors(S)      PLAYER1:\")\n",
    "Player2= input(\"choose Rock(R), Paper(P), Scissors(S)      PLAYER2:\")\n",
    "if (Player1==Player2):\n",
    "    print ('RESULT=Draw')\n",
    "elif((Player1=='R' and Player2=='P') or (Player1=='P' and Player2=='S') or (Player1=='S' and Player2=='R')):\n",
    "    print(\"RESULT=Player2 won!!!!\")\n",
    "elif((Player1=='P' and Player2=='R') or (Player1=='S' and Player2=='P') or (Player1=='R' and Player2=='S')):\n",
    "    print(\"RESULT=Player1 won!!!!!\")\n",
    "print(\"Goodbye\")"
   ]
  },
  {
   "cell_type": "code",
   "execution_count": null,
   "metadata": {
    "collapsed": true
   },
   "outputs": [],
   "source": []
  }
 ],
 "metadata": {
  "kernelspec": {
   "display_name": "Python 3",
   "language": "python",
   "name": "python3"
  },
  "language_info": {
   "codemirror_mode": {
    "name": "ipython",
    "version": 3
   },
   "file_extension": ".py",
   "mimetype": "text/x-python",
   "name": "python",
   "nbconvert_exporter": "python",
   "pygments_lexer": "ipython3",
   "version": "3.6.5"
  }
 },
 "nbformat": 4,
 "nbformat_minor": 2
}
